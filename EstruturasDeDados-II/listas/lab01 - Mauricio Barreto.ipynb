{
 "cells": [
  {
   "cell_type": "markdown",
   "metadata": {},
   "source": [
    "# Listas lineares\n",
    "\n",
    "A lista linear é uma forma de representação, como estrutura linear, onde o objetivo é que a representação de dados de um problema no computador seja de tal maneira, que o algoritmo que os utilize seja auxiliado em sua tarefa de obter uma solução de forma confiável e eficiente.\n",
    "\n",
    "Para a compreensão do funcionamento da lista, é necessário compreendermos o funcionamento da memória do computador.\n",
    "\n",
    "A memória do computador é um recurso que pode ser acessado de duas formas por um programa:\n",
    "\t\n",
    "* Primeiro, um algoritmo pode alocar estruturas de dados no que chamaremos de memória estática, alocação esta  que deve ser feita antes de sua execução;\n",
    "\t\n",
    "* Segundo, um algoritmo pode utilizar-se da memória dinâmica do computador, alocando estruturas na medida do necessário durante a execução do algoritmo.\n",
    "\n",
    "Em ambos os casos, podemos imaginar que a memória é organizada como uma série sequencial de células. Associados a cada célula estão dois atributos: o endereço do início da célula e seu tamanho. As células não precisam ser de tamanho uniforme.\n",
    "\n",
    "O tamanho de uma célula é dado numa unidade peculiar ao equipamento em questão, mas geralmente a unidade fundamental é o byte, que é o espaço necessário para representar um caractere, por exemplo a letra “a”. Um byte é composto de 8 bits, sendo que um bit é um digito binário (0 ou 1). Tudo que é representável num computador é fundamental uma seqüência de bits.\n",
    "\n",
    "A maioria dos programadores está acostumada a trabalhar com a alocação estática de memória, que nos obriga a definir com antecedência o tamanho máximo das estruturas de dados. A segunda forma nos desobriga dessa definição e, portanto, é muito mais flexível, embora esteja sujeita a perigos que lhe são característicos.\n"
   ]
  },
  {
   "cell_type": "code",
   "execution_count": 2,
   "metadata": {},
   "outputs": [],
   "source": [
    "from estruturas.pilha import *\n",
    "from estruturas.fila import *\n",
    "from estruturas.deque import *\n",
    "\n",
    "from estruturas.pilha_dinamica import *\n",
    "from estruturas.fila_dinamica import *\n",
    "from estruturas.deque_dinamico import *\n",
    "\n",
    "from estruturas.lista import *"
   ]
  },
  {
   "cell_type": "markdown",
   "metadata": {},
   "source": [
    "## Pilhas \n",
    "\n",
    "Listas lineares em que inserções, remoções e acessos a elementos ocorrem no primeiro ou no último elemento são muito frequentemente encontradas. Tais listas linears recebem nomes especiais como pilha e fila. É uma lista linear em que todas as inserções e remoções sãofeitas numa mesma extremidade da lista linear. Esta extremidade se denomina topo (em inglês “top”) ou lado aberto da pilha. \n",
    "\n",
    "As operações definidas para uma pilha incluem: \n",
    "* Verificar se a pilha está vazia\n",
    "* Inserir um elemento na pilha (empilhar ou “push”), no lado do topo.\n",
    "* Remover um elemento da pilha (desempilhar ou “pop”), do lado do topo.\n",
    "* Esvaziar a pilha (clear)\n",
    "\n",
    "### Pilha é uma estrutura LIFO\n",
    "\n",
    "Como o último elemento que entrou na pilha será o primeiro asair da pilha, a pilha é conhecida como uma estrutura do tipo LIFO(“Last In First Out”). Exemplos:\n",
    "* Na vida real: pilhas de pratos numa cafeteria (acréscimos e retiradas de pratos sempre feitos num mesmo lado da pilha - lado de cima)\n",
    "* Na execução de uma programa: uma pilha pode ser usadana chamada de procedimentos, para armazenar o endereço de retorno (e os parâmetros reais). A medidaque procedimentos chamam outros procedimentos, mais emais endereços de retorno devem ser empilhados. Estes são desempilhados à medida que os procedimentos chegam ao seu fim.\n",
    "* Na avaliação de expressões aritméticas, a pilha pode ser usada para transformar expressões em notação polonesa ou pós-fixa. A pilha também pode ser usada na avaliaçãode expressões aritméticas em notação polonesa.\n",
    "\n",
    "\n",
    "#### Pilha Estástica\n",
    "\n",
    "Os elementos da lista linear ocupam posições consecutivas da memória do computador, com tamanho fixo. Área de memória é alocada no momento da execução.\n",
    "\n",
    "Abaixo mostraremos uma série de testes realizadas com a estrutura de pilha estática criada. Por ser estática, há uma limitação de tamanho definida ao instanciar a estrutura. Ao atingirmos este limite, a pilha deixa de permitir novas inserções até que haja espaço."
   ]
  },
  {
   "cell_type": "code",
   "execution_count": 2,
   "metadata": {},
   "outputs": [
    {
     "name": "stdout",
     "output_type": "stream",
     "text": [
      "Estouro de pilha\n",
      "['Paulo', 'Ana', 'Maria', 'Gabriela', 'Pedro', 'Renata', 'João', 'Sergio', 'Ricardo', 'Bruno']\n",
      "10\n",
      "9\n",
      "['Paulo', 'Ana', 'Maria', 'Gabriela', 'Pedro', 'Renata', 'João', 'Sergio', 'Ricardo']\n",
      "['Paulo', 'Ana', 'Maria', 'Gabriela', 'Pedro', 'Renata', 'João', 'Sergio', 'Ricardo', 'Angela']\n",
      "Estouro de pilha\n",
      "Angela\n"
     ]
    }
   ],
   "source": [
    "def main():\n",
    "    pilha = Pilha(10)\n",
    "    pilha.push(\"Paulo\")\n",
    "    pilha.push(\"Ana\")\n",
    "    pilha.push(\"Maria\")\n",
    "    pilha.push(\"Gabriela\")\n",
    "    pilha.push(\"Pedro\")\n",
    "    pilha.push(\"Renata\")\n",
    "    pilha.push(\"João\")\n",
    "    pilha.push(\"Sergio\")\n",
    "    pilha.push(\"Ricardo\")\n",
    "    pilha.push(\"Bruno\")\n",
    "    pilha.push(\"Angela\")\n",
    "    pilha.mostra()\n",
    "    print(pilha.tamanho)\n",
    "    print(pilha.topo)\n",
    "    pilha.pop()\n",
    "    pilha.mostra()\n",
    "    pilha.push(\"Angela\")\n",
    "    pilha.mostra()\n",
    "    pilha.push(\"Angela\")\n",
    "    print(pilha.peek())\n",
    "    \n",
    "if __name__ == \"__main__\":\n",
    "    main()"
   ]
  },
  {
   "cell_type": "markdown",
   "metadata": {},
   "source": [
    "## Filas\n",
    "\n",
    "É uma lista linear em que todas as inserções de novos elementos são realizadas numa extremidade da lista e todas as remoções são feitas na outra extremidade.\n",
    "\n",
    "### Uma fila é uma estrutura do tipo FIFO (“First In First Out”).\n",
    "\n",
    "Elementos novos são inseridos no lado In(fim da fila) e a retirada ocorre no lado Out (frente ou começo da fila). \n",
    "\n",
    "Exemplo: Num sistema operacional, os processos prontos para entrar em execução (aguardando apenas a disponibilidade da CPU) são geralmente mantidos numa fila.\n",
    "\n",
    "Existe um tipo de fila em que as retiradas de elementos da fila depende de um valor chamado prioridade de cada elemento. O elemento de maior prioridade entre todos os elementos da fila é o próximo a ser retirado. Tal fila recebe o nome de fila de prioridade.\n"
   ]
  },
  {
   "cell_type": "code",
   "execution_count": 3,
   "metadata": {},
   "outputs": [
    {
     "name": "stdout",
     "output_type": "stream",
     "text": [
      "Estouro de fila\n",
      "['Paulo', 'Ana', 'Maria', 'Gabriela', 'Pedro', 'Renata', 'João', 'Sergio', 'Ricardo', 'Bruno']\n",
      "10\n",
      "['Ana', 'Maria', 'Gabriela', 'Pedro', 'Renata', 'João', 'Sergio', 'Ricardo', 'Bruno']\n",
      "['Ana', 'Maria', 'Gabriela', 'Pedro', 'Renata', 'João', 'Sergio', 'Ricardo', 'Bruno', 'Angela']\n",
      "Estouro de fila\n",
      "Ana\n"
     ]
    }
   ],
   "source": [
    "def main():\n",
    "    fila = Fila(10)\n",
    "    fila.insere(\"Paulo\")\n",
    "    fila.insere(\"Ana\")\n",
    "    fila.insere(\"Maria\")\n",
    "    fila.insere(\"Gabriela\")\n",
    "    fila.insere(\"Pedro\")\n",
    "    fila.insere(\"Renata\")\n",
    "    fila.insere(\"João\")\n",
    "    fila.insere(\"Sergio\")\n",
    "    fila.insere(\"Ricardo\")\n",
    "    fila.insere(\"Bruno\")\n",
    "    fila.insere(\"Angela\")\n",
    "    fila.mostra()\n",
    "    print(fila.get_tamanho())\n",
    "    fila.remove()\n",
    "    fila.mostra()\n",
    "    fila.insere(\"Angela\")\n",
    "    fila.mostra()\n",
    "    fila.insere(\"Fernanda\")\n",
    "    print(fila.peek())\n",
    "    \n",
    "if __name__ == \"__main__\":\n",
    "    main()"
   ]
  },
  {
   "cell_type": "markdown",
   "metadata": {},
   "source": [
    "## Deque Estático"
   ]
  },
  {
   "cell_type": "code",
   "execution_count": 4,
   "metadata": {},
   "outputs": [
    {
     "name": "stdout",
     "output_type": "stream",
     "text": [
      "Deque cheio\n",
      "['Ricardo', 'João', 'Pedro', 'Ana', 'Paulo', 'Maria', 'Gabriela', 'Renata', 'Sergio', 'Bruno']\n",
      "10\n",
      "['João', 'Pedro', 'Ana', 'Paulo', 'Maria', 'Gabriela', 'Renata', 'Sergio', 'Bruno']\n",
      "['João', 'Pedro', 'Ana', 'Paulo', 'Maria', 'Gabriela', 'Renata', 'Sergio']\n"
     ]
    }
   ],
   "source": [
    "def main():\n",
    "    lista = Deque(10)\n",
    "    lista.insere_esq(\"Paulo\")\n",
    "    lista.insere_esq(\"Ana\")\n",
    "    lista.insere_dir(\"Maria\")\n",
    "    lista.insere_dir(\"Gabriela\")\n",
    "    lista.insere_esq(\"Pedro\")\n",
    "    lista.insere_dir(\"Renata\")\n",
    "    lista.insere_esq(\"João\")\n",
    "    lista.insere_dir(\"Sergio\")\n",
    "    lista.insere_esq(\"Ricardo\")\n",
    "    lista.insere_dir(\"Bruno\")\n",
    "    lista.insere_esq(\"Angela\")\n",
    "    lista.mostra()\n",
    "    print(lista.get_tamanho())\n",
    "    lista.remove_esq()\n",
    "    lista.mostra()\n",
    "    lista.remove_dir()\n",
    "    lista.mostra()\n",
    "    #lista.insere_dir(\"José\")\n",
    "    #lista.mostra()\n",
    "    #lista.insere_esq(\"Fernanda\")\n",
    "    \n",
    "if __name__ == \"__main__\":\n",
    "    main()"
   ]
  },
  {
   "cell_type": "markdown",
   "metadata": {},
   "source": [
    "## Listas dinâmicas\n",
    "Neste caso, o espaço de memória é alocado em tempo de execução. Uma lista com alocação dinâmica cresce à medida que novos elementos precisam ser armazenados (e diminui à medida que elementos anteriormente armazenados são retirados da lista)\n",
    "\n",
    "### Pilha dinâmica"
   ]
  },
  {
   "cell_type": "code",
   "execution_count": 5,
   "metadata": {},
   "outputs": [
    {
     "name": "stdout",
     "output_type": "stream",
     "text": [
      "Paulo >> Ana >> Maria >> Gabriela >> Pedro >> Renata >> João >> Sergio >> Ricardo >> Bruno >> Angela\n",
      "Angela\n",
      "Paulo >> Ana >> Maria >> Gabriela >> Pedro >> Renata >> João >> Sergio >> Ricardo >> Bruno\n",
      "Paulo >> Ana >> Maria >> Gabriela >> Pedro >> Renata >> João >> Sergio >> Ricardo\n",
      "Paulo >> Ana >> Maria >> Gabriela >> Pedro >> Renata >> João >> Sergio >> Ricardo >> Angela\n",
      "Angela\n"
     ]
    }
   ],
   "source": [
    "def main():\n",
    "    pilha = PilhaDinamica()\n",
    "    pilha.push(\"Paulo\")\n",
    "    pilha.push(\"Ana\")\n",
    "    pilha.push(\"Maria\")\n",
    "    pilha.push(\"Gabriela\")\n",
    "    pilha.push(\"Pedro\")\n",
    "    pilha.push(\"Renata\")\n",
    "    pilha.push(\"João\")\n",
    "    pilha.push(\"Sergio\")\n",
    "    pilha.push(\"Ricardo\")\n",
    "    pilha.push(\"Bruno\")\n",
    "    pilha.push(\"Angela\")\n",
    "    pilha.mostra()\n",
    "    #print(pilha.tamanho)\n",
    "    #print(pilha.topo)\n",
    "    print(str(pilha.pop().conteudo))\n",
    "    pilha.mostra()\n",
    "    pilha.pop()\n",
    "    pilha.mostra()\n",
    "    pilha.push(\"Angela\")\n",
    "    pilha.mostra()\n",
    "    pilha.push(\"Angela\")\n",
    "    print(pilha.peek())\n",
    "    \n",
    "if __name__ == \"__main__\":\n",
    "    main()"
   ]
  },
  {
   "cell_type": "markdown",
   "metadata": {},
   "source": [
    "### Fila dinâmica"
   ]
  },
  {
   "cell_type": "code",
   "execution_count": 6,
   "metadata": {},
   "outputs": [
    {
     "name": "stdout",
     "output_type": "stream",
     "text": [
      "Angela >> Bruno >> Ricardo >> Sergio >> João >> Renata >> Pedro >> Gabriela >> Maria >> Ana >> Paulo\n",
      "11\n",
      "Paulo\n",
      "Angela >> Bruno >> Ricardo >> Sergio >> João >> Renata >> Pedro >> Gabriela >> Maria >> Ana\n",
      "Angela >> Angela >> Bruno >> Ricardo >> Sergio >> João >> Renata >> Pedro >> Gabriela >> Maria >> Ana\n",
      "Ana\n"
     ]
    }
   ],
   "source": [
    "def main():\n",
    "    fila = FilaDinamica()\n",
    "    fila.insere(\"Paulo\")\n",
    "    fila.insere(\"Ana\")\n",
    "    fila.insere(\"Maria\")\n",
    "    fila.insere(\"Gabriela\")\n",
    "    fila.insere(\"Pedro\")\n",
    "    fila.insere(\"Renata\")\n",
    "    fila.insere(\"João\")\n",
    "    fila.insere(\"Sergio\")\n",
    "    fila.insere(\"Ricardo\")\n",
    "    fila.insere(\"Bruno\")\n",
    "    fila.insere(\"Angela\")\n",
    "    fila.mostra()\n",
    "    print(fila.get_tamanho())\n",
    "    print(fila.remove().conteudo)\n",
    "    fila.mostra()\n",
    "    fila.insere(\"Angela\")\n",
    "    fila.mostra()\n",
    "    fila.insere(\"Fernanda\")\n",
    "    print(fila.peek())\n",
    "    \n",
    "if __name__ == \"__main__\":\n",
    "    main()"
   ]
  },
  {
   "cell_type": "markdown",
   "metadata": {},
   "source": [
    "# Atividade\n",
    "\n",
    "Implemente um deque dinâmico. Instruções:\n",
    "\n",
    "É uma estrutura de dados na qual os elementos podem ser inseridos ou excluídos de qualquer umade suas extremidades (do início ou do fim).\n",
    "* Use uma implementação duplamente ligada (ou duplamente encadeada), na qual cada elemento possui o endereço de seu antecessor e de seu sucessor.\n",
    "* Use um nó cabeça para facilitar o gerenciamentoda estrutura.\n",
    "\n",
    "Temos um ponteiro para o nó cabeça \n",
    "\n",
    "Cada elemento indica seu antecessor e seu sucessor (o último tem o nó cabeça como sucessor e o nó cabeça tem o último como antecessor).\n",
    "\n",
    "![Esquema do Deque](img/deque.png)\n",
    "\n",
    "### Funções a serem implementadas: \n",
    "* Inicializar a estrutura\n",
    "* Retornar a quantidade de elementos válidos\n",
    "* Exibir os elementos da estrutura\n",
    "* Inserir elementos na estrutura (duas funções, uma para cada ponta)\n",
    "* Excluir elementos da estrutura (duas funções, uma para cada ponta)\n",
    "* Reinicializar a estrutura\n",
    "\n",
    "Teste abaixo sua estrutura"
   ]
  },
  {
   "cell_type": "code",
   "execution_count": 3,
   "metadata": {},
   "outputs": [
    {
     "name": "stdout",
     "output_type": "stream",
     "text": [
      "José >> Ana >> Maria\n"
     ]
    }
   ],
   "source": [
    "def main():\n",
    "    lista = DequeDinamico()\n",
    "    lista.insere_esq(\"Ana\")\n",
    "    lista.insere_esq(\"José\")\n",
    "    lista.insere_dir(\"Maria\")\n",
    "    lista.mostra()\n",
    "    \n",
    "if __name__ == \"__main__\":\n",
    "    main()"
   ]
  },
  {
   "cell_type": "markdown",
   "metadata": {},
   "source": [
    "# Lista encadeada\n",
    "\n",
    "Construiremos agora uma estrutura genérica, sem restrições para a inserção, consulta ou remoção de elementos. Nossa lista linear também não terá restrições de tamanho.\n"
   ]
  },
  {
   "cell_type": "code",
   "execution_count": 7,
   "metadata": {
    "scrolled": true
   },
   "outputs": [
    {
     "name": "stdout",
     "output_type": "stream",
     "text": [
      "Angela >> Ricardo >> João >> Pedro >> Ana >> Paulo >> Maria >> Gabriela >> Renata >> Sergio >> Bruno\n",
      "11\n",
      "Ricardo >> João >> Pedro >> Ana >> Paulo >> Maria >> Gabriela >> Renata >> Sergio >> Bruno\n",
      "Ricardo >> João >> Pedro >> Ana >> Paulo >> Maria >> Gabriela >> Renata >> Sergio\n",
      "Elemento não encontrado\n"
     ]
    }
   ],
   "source": [
    "def main():\n",
    "    lista = Lista()\n",
    "    lista.insere_esq(\"Paulo\")\n",
    "    lista.insere_esq(\"Ana\")\n",
    "    lista.insere_dir(\"Maria\")\n",
    "    lista.insere_dir(\"Gabriela\")\n",
    "    lista.insere_esq(\"Pedro\")\n",
    "    lista.insere_dir(\"Renata\")\n",
    "    lista.insere_esq(\"João\")\n",
    "    lista.insere_dir(\"Sergio\")\n",
    "    lista.insere_esq(\"Ricardo\")\n",
    "    lista.insere_dir(\"Bruno\")\n",
    "    lista.insere_esq(\"Angela\")\n",
    "    lista.mostra()\n",
    "    print(lista.get_tamanho())\n",
    "    lista.remove_esq()\n",
    "    lista.mostra()\n",
    "    lista.remove_dir()\n",
    "    lista.mostra()\n",
    "    print(lista.pesquisa(\"Renato\"))\n",
    "    #lista.insere_dir(\"José\")\n",
    "    #lista.mostra()\n",
    "    #lista.insere_esq(\"Fernanda\")\n",
    "    \n",
    "if __name__ == \"__main__\":\n",
    "    main()"
   ]
  },
  {
   "cell_type": "markdown",
   "metadata": {},
   "source": [
    "#### Remoção por índice\n",
    "\n",
    "Implemente a função para remover um elemento em uma dada posição na lista. No arquivo lista.py, codifique a função def remove(self, elemento, posicao).\n",
    "\n",
    "Teste sua removendo o item de índice 4 na lista instanciada acima (Paulo):"
   ]
  },
  {
   "cell_type": "code",
   "execution_count": null,
   "metadata": {},
   "outputs": [],
   "source": [
    "def remover_indice(self, indice):\n",
    "    if len(self.root) > 0:\n",
    "        elemento_removido = self.root[indice]\n",
    "\n",
    "        del self.root[indice]\n",
    "\n",
    "        return elemento_removido\n",
    "        \n",
    "    return False"
   ]
  },
  {
   "cell_type": "markdown",
   "metadata": {},
   "source": [
    "#### Ordenação simples\n",
    "\n",
    "Implemente a função para ordenar a lista. No arquivo lista.py, codifique a função def ordena(self). Utilize a estratégia que preferir.\n",
    "\n",
    "Teste seu algoritmo ordenando a lista instanciada:"
   ]
  },
  {
   "cell_type": "code",
   "execution_count": null,
   "metadata": {},
   "outputs": [],
   "source": [
    "https://github.com/MauricioBM/Faculdade-SI/blob/main/EstruturasDeDados-II/listas/base/baselist.py\n",
    "\n",
    "def bubble_sort(self):\n",
    "\n",
    "        self.items = self.show()\n",
    "\n",
    "        for i in range(self.size - 1):\n",
    "            j = i + 1\n",
    "            while j < self.size:\n",
    "                if self.items[i] > self.items[j]:\n",
    "                    self.items[i], self.items[j] = self.swap(self.items[i], self.items[j])\n",
    "                j = j + 1\n",
    "            i = i + 1"
   ]
  }
 ],
 "metadata": {
  "kernelspec": {
   "display_name": "Python 3",
   "language": "python",
   "name": "python3"
  },
  "language_info": {
   "codemirror_mode": {
    "name": "ipython",
    "version": 3
   },
   "file_extension": ".py",
   "mimetype": "text/x-python",
   "name": "python",
   "nbconvert_exporter": "python",
   "pygments_lexer": "ipython3",
   "version": "3.7.6"
  }
 },
 "nbformat": 4,
 "nbformat_minor": 4
}
