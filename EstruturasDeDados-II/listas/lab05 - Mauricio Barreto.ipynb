{
 "cells": [
  {
   "cell_type": "code",
   "execution_count": 1,
   "metadata": {},
   "outputs": [],
   "source": [
    "from estruturas.pilha import *\n",
    "from estruturas.fila import *\n",
    "from estruturas.deque import *\n",
    "\n",
    "from estruturas.pilha_dinamica import *\n",
    "from estruturas.fila_dinamica import *\n",
    "\n",
    "from estruturas.lista import *\n",
    "\n",
    "from estruturas.arvore import *\n",
    "from estruturas.arvore_binaria import *\n",
    "\n",
    "from cyjupyter import Cytoscape\n",
    "import json"
   ]
  },
  {
   "cell_type": "markdown",
   "metadata": {},
   "source": [
    "# Árvore Rubro-Negra\n",
    "É um tipo de árvore binária balanceada criada por Rudolf Bayer em 1972, com aperfeiçoamentos de J. Guibas e R. Sedgewick em 1978.\n",
    "\n",
    "Utiliza um esquema de coloração de nós para manter o balanceamento da árvore. Lembrando que as árvores AVL usam a altura da sub-árvores para estruturar o balanceamento.\n",
    "\n",
    "Desta forma, na árvore rubro-negra, cada nó da árvore possui um atributo de cor, que pode ser <b>vermelho</b> ou <b>preto</b>\n",
    "\n",
    "<img src=\"./img/arvore_rb.png\" width=\"300\">\n",
    "\n",
    "### Propriedades\n",
    "* Todo nó da árvore é <b>vermelho</b> ou <b>preto</b>\n",
    "* A raiz é sempre <b>preta</b>\n",
    "* Todo nó folha é <b>preto</b>\n",
    "* Se um nó é <b>vermelho</b>, então seus filhos são <b>pretos</b>\n",
    " * Não existem nós <b>vermelhos</b> consecutivos\n",
    "* Para cada nó, todos os caminhos desse nó para os nós folhas descendentes contém o mesmo número de nós <b>pretos</b>\n",
    "\n",
    "Como todo nó folha termina com dois ponteiros nulos, eles podem ser ignorados na representação da árvore para fins de didática.\n",
    "\n",
    "<img src=\"./img/arvore_rb_sem_folhas.png\" width=\"650\">\n",
    "\n",
    "A altura h de uma árvore rubro-negra de n chaves ou nósinternos é no máximo 2 log(n+1)\n",
    "\n",
    "* Esse resultado mostra a importância e utilidade de umaárvore rubro-negra, pois veremos que a busca, inserção eremoção têm complexidade de tempo deO(h)=O(logn).\n",
    "* Inserções e remoções feitas numa árvore rubro-negrapode modificar a sua estrutura. Precisamos garantir quenenhuma das propriedades de árvore rubro-negra seja violada.\n",
    "* Para isso podemos ter que mudar a estrutura da árvore eas cores de alguns dos nós da árvore. A mudança daestrutura da árvore é feita por dois tipos de rotações emramos da árvore:\n",
    " * left-rotate e\n",
    " * right-rotate\n",
    "\n",
    "## Balanceamento\n",
    "É feito por meio de rotações e ajuste de cores a cada inserção ou remoção\n",
    "* Mantém o equilíbrio da árvore\n",
    "* Corrigem possíveis violações de suas propriedades \n",
    "* Custo máximo de qualquer algoritmo é O(log N)\n",
    "\n",
    "### Rotação left-rotate\n",
    "Seja uma árvore binária apontada por T\n",
    "\n",
    "| Passo 1 | Passo 2 |\n",
    "|---------|---------|\n",
    "| <img src=\"./img/arvore_rb_left_rot1.png\" width=\"350\"> | <img src=\"./img/arvore_rb_left_rot2.png\" width=\"350\"> | \n",
    "\n",
    "```\n",
    "left-rotate(T,x):\n",
    "    y ← right[x]\n",
    "    right[x] ← left[y]\n",
    "    if left[y] <> nil[T] then\n",
    "        pai[left[y]] ← x5\n",
    "    endif\n",
    "    pai[y] ← pai[x]\n",
    "    if pai[x] = nil[T] then\n",
    "        T ← y\n",
    "    else\n",
    "        if x = left[pai[x]] then\n",
    "            left[pai[x]] ← y\n",
    "        else\n",
    "            right[pai[x]] ← y \n",
    "        end if\n",
    "    end if\n",
    "    left[y] ← x\n",
    "    pai[x] ← y\n",
    "\n",
    "```\n",
    "O algoritmo right-rotate(T, y) é análogo.\n",
    "\n",
    "\n",
    "1. Implemente o algoritmo left-rotate(T, x) para a nossa estrutura de árvore RB"
   ]
  },
  {
   "cell_type": "code",
   "execution_count": null,
   "metadata": {},
   "outputs": [],
   "source": [
    "https://github.com/MauricioBM/Faculdade-SI/blob/main/EstruturasDeDados-II/listas/RB_Tree/RB_Tree.py   \n",
    "    \n",
    "    def leftRotate(self, x):\n",
    "\n",
    "        y = x.right\n",
    "        x.right = y.left\n",
    "        if y.left != self.TNULL:\n",
    "            y.left.parent = x\n",
    "\n",
    "        y.parent = x.parent\n",
    "        if x.parent is None:\n",
    "            self.root = y\n",
    "        elif x == x.parent.left:\n",
    "            x.parent.left = y\n",
    "        else:\n",
    "            x.parent.right = y\n",
    "        y.left = x\n",
    "        x.parent = y"
   ]
  },
  {
   "cell_type": "markdown",
   "metadata": {},
   "source": [
    "2. Implemente o algoritmo right-rotate(T, x) para a nossa estrutura de árvore RB."
   ]
  },
  {
   "cell_type": "code",
   "execution_count": null,
   "metadata": {},
   "outputs": [],
   "source": [
    "https://github.com/MauricioBM/Faculdade-SI/blob/main/EstruturasDeDados-II/listas/RB_Tree/RB_Tree.py    \n",
    "    \n",
    "    def rightRotate(self, x):\n",
    "\n",
    "        y = x.left\n",
    "        x.left = y.right\n",
    "        if y.right != self.TNULL:\n",
    "            y.right.parent = x\n",
    "\n",
    "        y.parent = x.parent\n",
    "        if x.parent is None:\n",
    "            self.root = y\n",
    "        elif x == x.parent.right:\n",
    "            x.parent.right = y\n",
    "        else:\n",
    "            x.parent.left = y\n",
    "        y.right = x\n",
    "        x.parent = y"
   ]
  },
  {
   "cell_type": "markdown",
   "metadata": {},
   "source": [
    "3. Complete a implementação para uma árvore RB, baseado na classe Java disponível em https://www.ime.usp.br/~pf/estruturas-de-dados/aulas/st-redblack.html. Classe RedBlackBST: https://www.ime.usp.br/~pf/sedgewick-wayne/algs4/RedBlackBST.java"
   ]
  },
  {
   "cell_type": "code",
   "execution_count": null,
   "metadata": {},
   "outputs": [],
   "source": [
    "Código completo: https://github.com/MauricioBM/Faculdade-SI/blob/main/EstruturasDeDados-II/listas/RB_Tree/RB_Tree.py"
   ]
  },
  {
   "cell_type": "markdown",
   "metadata": {},
   "source": [
    "4. Teste a inserção a árvore inserindo os elementos E, A, R, C, H, X, M, P, L"
   ]
  }
 ],
 "metadata": {
  "kernelspec": {
   "display_name": "Python 3",
   "language": "python",
   "name": "python3"
  },
  "language_info": {
   "codemirror_mode": {
    "name": "ipython",
    "version": 3
   },
   "file_extension": ".py",
   "mimetype": "text/x-python",
   "name": "python",
   "nbconvert_exporter": "python",
   "pygments_lexer": "ipython3",
   "version": "3.7.6"
  }
 },
 "nbformat": 4,
 "nbformat_minor": 4
}
