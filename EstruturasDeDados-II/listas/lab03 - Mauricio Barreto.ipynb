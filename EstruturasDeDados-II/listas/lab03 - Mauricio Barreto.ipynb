{
 "cells": [
  {
   "cell_type": "markdown",
   "metadata": {},
   "source": [
    "# Árvores\n",
    "fonte: Wikipedia\n",
    "\n",
    "Na teoria dos grafos, uma árvore é um grafo conexo (existe caminho entre quaisquer dois de seus vértices) e acíclico (não possui ciclos)[1][2]. Caso o grafo seja acíclico mas não conexo, ele é dito uma floresta. Uma floresta também é definida como uma união disjunta de árvores.\n",
    "\n",
    "Toda árvore é um grafo, mas nem todo grafo é uma árvore. Toda árvore é um grafo bipartido e planar. Todo grafo conexo possui pelo menos uma árvore de extensão associada, composta de todos os seus vértices e algumas de suas arestas. \n",
    "\n",
    "Seja G um grafo de n vértices. G é uma árvore se satisfaz as seguintes condições:\n",
    "\n",
    "* G é conexo e há exatamente um caminho entre dois vértices quaisquer. Já em uma floresta, há no máximo um caminho entre dois vértices, devido à não-conectividade.\n",
    "* G é acíclico, e um simples ciclo é formado se qualquer aresta for adicionada a G.\n",
    "* G é conexo, e deixará de ser conexo se qualquer aresta for removida de G.\n",
    "* G é conexo, acíclico e tem n − 1 arestas.\n",
    "\n",
    "<img src=\"./img/arvore.png\" alt=\"./img/arvore.png\" width=\"200\"/>\n"
   ]
  },
  {
   "cell_type": "code",
   "execution_count": 5,
   "metadata": {},
   "outputs": [],
   "source": [
    "from estruturas.pilha import *\n",
    "from estruturas.fila import *\n",
    "from estruturas.deque import *\n",
    "\n",
    "from estruturas.pilha_dinamica import *\n",
    "from estruturas.fila_dinamica import *\n",
    "\n",
    "from estruturas.lista import *\n",
    "\n",
    "from estruturas.arvore import *\n",
    "from estruturas.arvore_binaria import *\n",
    "\n",
    "from cyjupyter import Cytoscape\n",
    "import json"
   ]
  },
  {
   "cell_type": "markdown",
   "metadata": {},
   "source": [
    "Testando uma estrutura de árvore simples."
   ]
  },
  {
   "cell_type": "code",
   "execution_count": 2,
   "metadata": {},
   "outputs": [],
   "source": [
    "from estruturas.arvore import *\n",
    "\n",
    "raiz = Node(1)\n",
    "arvore = Arvore(raiz)\n",
    "node2 = Node(2)\n",
    "node3 = Node(3)\n",
    "node4 = Node(4)\n",
    "node5 = Node(5)\n",
    "node6 = Node(6)\n",
    "node7 = Node(7)\n",
    "node8 = Node(8)\n",
    "node9 = Node(9)\n",
    "node10 = Node(10)\n",
    "node11 = Node(11)\n",
    "\n",
    "raiz.adiciona(node2)\n",
    "raiz.adiciona(node3)\n",
    "raiz.adiciona(node4)\n",
    "node2.adiciona(node5)\n",
    "node2.adiciona(node6)\n",
    "node3.adiciona(node7)\n",
    "node4.adiciona(node8)\n",
    "node4.adiciona(node9)\n",
    "node5.adiciona(node10)\n",
    "node5.adiciona(node11)\n"
   ]
  },
  {
   "cell_type": "markdown",
   "metadata": {},
   "source": [
    "Árvore criada:"
   ]
  },
  {
   "cell_type": "code",
   "execution_count": 3,
   "metadata": {},
   "outputs": [
    {
     "data": {
      "application/vnd.jupyter.widget-view+json": {
       "model_id": "612b3fb49a0f40a28bd4de64ef55d387",
       "version_major": 2,
       "version_minor": 0
      },
      "text/plain": [
       "Cytoscape(data={'elements': {'nodes': [{'data': {'id': 1}, 'position': {'x': 200, 'y': 10}}, {'data': {'id': 2…"
      ]
     },
     "metadata": {},
     "output_type": "display_data"
    }
   ],
   "source": [
    "with open('./exemplos/arvore.cyjs') as f:\n",
    "    arvore_n_aria = json.load(f)\n",
    "\n",
    "#with open('kegg-style.json') as f2:\n",
    "#    kegg_style = json.load(f2)\n",
    "    \n",
    "#style_obj = kegg_style[0]['style']\n",
    "# Cytoscape(data=minimal_cyjs_network, background='radial-gradient(#FFFFFF,teal)')\n",
    "\n",
    "Cytoscape(data=arvore_n_aria)\n"
   ]
  },
  {
   "cell_type": "code",
   "execution_count": 4,
   "metadata": {},
   "outputs": [
    {
     "name": "stdout",
     "output_type": "stream",
     "text": [
      "1 >> 2 >> 5 >> 10 >> 11 >> 6 >> 3 >> 7 >> 4 >> 8 >> 9\n",
      "1\n"
     ]
    },
    {
     "ename": "AttributeError",
     "evalue": "'Node' object has no attribute 'esq'",
     "output_type": "error",
     "traceback": [
      "\u001b[0;31m---------------------------------------------------------------------------\u001b[0m",
      "\u001b[0;31mAttributeError\u001b[0m                            Traceback (most recent call last)",
      "\u001b[0;32m<ipython-input-4-beab2cc26ec2>\u001b[0m in \u001b[0;36m<module>\u001b[0;34m\u001b[0m\n\u001b[1;32m      1\u001b[0m \u001b[0marvore\u001b[0m\u001b[0;34m.\u001b[0m\u001b[0mmostra_profundidade\u001b[0m\u001b[0;34m(\u001b[0m\u001b[0;34m)\u001b[0m\u001b[0;34m\u001b[0m\u001b[0;34m\u001b[0m\u001b[0m\n\u001b[0;32m----> 2\u001b[0;31m \u001b[0marvore\u001b[0m\u001b[0;34m.\u001b[0m\u001b[0mmostra_largura\u001b[0m\u001b[0;34m(\u001b[0m\u001b[0;34m)\u001b[0m\u001b[0;34m\u001b[0m\u001b[0;34m\u001b[0m\u001b[0m\n\u001b[0m",
      "\u001b[0;32m~/Documents/CEFET/alg_estrut_dados_2/estrutura2/estruturas/arvore.py\u001b[0m in \u001b[0;36mmostra_largura\u001b[0;34m(self)\u001b[0m\n\u001b[1;32m     23\u001b[0m             \u001b[0mnode\u001b[0m \u001b[0;34m=\u001b[0m \u001b[0mfila\u001b[0m\u001b[0;34m.\u001b[0m\u001b[0mpop\u001b[0m\u001b[0;34m(\u001b[0m\u001b[0;34m)\u001b[0m\u001b[0;34m\u001b[0m\u001b[0;34m\u001b[0m\u001b[0m\n\u001b[1;32m     24\u001b[0m             \u001b[0mprint\u001b[0m\u001b[0;34m(\u001b[0m\u001b[0mstr\u001b[0m\u001b[0;34m(\u001b[0m\u001b[0mnode\u001b[0m\u001b[0;34m)\u001b[0m\u001b[0;34m)\u001b[0m\u001b[0;34m\u001b[0m\u001b[0;34m\u001b[0m\u001b[0m\n\u001b[0;32m---> 25\u001b[0;31m             \u001b[0;32mif\u001b[0m \u001b[0mnode\u001b[0m\u001b[0;34m.\u001b[0m\u001b[0mesq\u001b[0m\u001b[0;34m:\u001b[0m\u001b[0;34m\u001b[0m\u001b[0;34m\u001b[0m\u001b[0m\n\u001b[0m\u001b[1;32m     26\u001b[0m                 \u001b[0mfila\u001b[0m\u001b[0;34m.\u001b[0m\u001b[0minsert\u001b[0m\u001b[0;34m(\u001b[0m\u001b[0;36m0\u001b[0m\u001b[0;34m,\u001b[0m \u001b[0mnode\u001b[0m\u001b[0;34m.\u001b[0m\u001b[0mesq\u001b[0m\u001b[0;34m)\u001b[0m\u001b[0;34m\u001b[0m\u001b[0;34m\u001b[0m\u001b[0m\n\u001b[1;32m     27\u001b[0m             \u001b[0;32mif\u001b[0m \u001b[0mnode\u001b[0m\u001b[0;34m.\u001b[0m\u001b[0mdir\u001b[0m\u001b[0;34m:\u001b[0m\u001b[0;34m\u001b[0m\u001b[0;34m\u001b[0m\u001b[0m\n",
      "\u001b[0;31mAttributeError\u001b[0m: 'Node' object has no attribute 'esq'"
     ]
    }
   ],
   "source": [
    "arvore.mostra_profundidade()\n",
    "arvore.mostra_largura()"
   ]
  },
  {
   "cell_type": "markdown",
   "metadata": {},
   "source": [
    "### Atividade\n",
    "\n",
    "Implemente o algoritmo mostra_largura na classe Arvore, que deve exibir os nós da árvore através de uma estratégia de busca em largura.\n",
    "\n",
    "Em seguida, teste seu código aqui:"
   ]
  },
  {
   "cell_type": "code",
   "execution_count": 16,
   "metadata": {},
   "outputs": [],
   "source": [
    "Código no git: https://github.com/MauricioBM/Faculdade-SI/blob/main/EstruturasDeDados-II/listas/binary_tree/binary_tree.py \n",
    "    \n",
    "    def percurso_nivel(self, node=ROOT):\n",
    "        if node == ROOT:\n",
    "            node = self.root\n",
    "\n",
    "        queue = Queue()\n",
    "        queue.push(node)\n",
    "        while len(queue):\n",
    "            node = queue.pop()\n",
    "            if node.left:\n",
    "                queue.push(node.left)\n",
    "            if node.right:\n",
    "                queue.push(node.right)\n",
    "            print(node, end=\" \")"
   ]
  },
  {
   "cell_type": "markdown",
   "metadata": {},
   "source": [
    "## Árvore Binária\n",
    "Árvores binárias são uma das árvores mais usadas em computação\n",
    "\n",
    "Conjunto finito T de zero ou mais nós (nodos), tal que: \n",
    "\n",
    "Se número de nós é maior do que zero\n",
    "* existe um nó denominado raiz da árvore\n",
    "* os demais nós formam 2 conjuntos disjuntos S1, S2 (subárvore da esquerda e subárvore da direita) onde cada um destes é uma árvore binária\n",
    "\n",
    "Se número de nós é igual a zero\n",
    "* árvore vazia"
   ]
  },
  {
   "cell_type": "code",
   "execution_count": 27,
   "metadata": {},
   "outputs": [
    {
     "name": "stdout",
     "output_type": "stream",
     "text": [
      "1 >> 2 >> 4 >> 8 >> 5 >> 9 >> 3 >> 6 >> 10 >> 11 >> 7 >> 12\n",
      "0.0024383068084716797\n",
      "1 >> 2 >> 4 >> 8 >> 5 >> 9 >> 3 >> 6 >> 10 >> 11 >> 7 >> 12\n",
      "3\n",
      "0.00016808509826660156\n"
     ]
    }
   ],
   "source": [
    "import time\n",
    "\n",
    "arvore_bin = ArvoreBinaria()\n",
    "\n",
    "raiz = No(1)\n",
    "node2 = No(2)\n",
    "node3 = No(3)\n",
    "node4 = No(4)\n",
    "node5 = No(5)\n",
    "node6 = No(6)\n",
    "node7 = No(7)\n",
    "node8 = No(8)\n",
    "node9 = No(9)\n",
    "node10 = No(10)\n",
    "node11 = No(11)\n",
    "node12 = No(12)\n",
    "\n",
    "arvore_bin.cria_no(raiz)\n",
    "arvore_bin.cria_no_esq(node2, raiz)\n",
    "arvore_bin.cria_no_dir(node3, raiz)\n",
    "arvore_bin.cria_no_esq(node4, node2)\n",
    "arvore_bin.cria_no_dir(node5, node2)\n",
    "arvore_bin.cria_no_esq(node6, node3)\n",
    "arvore_bin.cria_no_dir(node7, node3)\n",
    "arvore_bin.cria_no_esq(node8, node4)\n",
    "arvore_bin.cria_no_dir(node9, node5)\n",
    "arvore_bin.cria_no_esq(node10, node6)\n",
    "arvore_bin.cria_no_dir(node11, node6)\n",
    "arvore_bin.cria_no_esq(node12, node7)\n",
    "\n",
    "inicio_it = time.time()\n",
    "arvore_bin.mostra_profundidade() \n",
    "fim_it = time.time()-inicio_it\n",
    "\n",
    "print(str(fim_it))\n",
    "\n",
    "inicio_rec = time.time()\n",
    "arvore_bin.mostra_profundidade_recursiva()\n",
    "fim_rec = time.time()-inicio_rec\n",
    "\n",
    "print(str(arvore_bin.altura(raiz)))\n",
    "\n",
    "print(str(fim_rec))"
   ]
  },
  {
   "cell_type": "code",
   "execution_count": 28,
   "metadata": {},
   "outputs": [
    {
     "data": {
      "application/vnd.jupyter.widget-view+json": {
       "model_id": "6feb74b713224cf8af5c90881079b54c",
       "version_major": 2,
       "version_minor": 0
      },
      "text/plain": [
       "Cytoscape(data={'elements': {'nodes': [{'data': {'id': 1}, 'position': {'x': 150, 'y': 10}}, {'data': {'id': 2…"
      ]
     },
     "metadata": {},
     "output_type": "display_data"
    }
   ],
   "source": [
    "with open('./exemplos/arvore_bin.cyjs') as f:\n",
    "    arvore_bin = json.load(f)\n",
    "\n",
    "Cytoscape(data=arvore_bin)"
   ]
  },
  {
   "cell_type": "markdown",
   "metadata": {},
   "source": [
    "#### Atividade\n",
    "\n",
    "Implemente o algoritmo mostra_largura na classe ArvoreBinaria, que deve exibir os nós da árvore através de uma estratégia de busca em largura.\n",
    "\n",
    "Em seguida, teste seu código aqui:\n"
   ]
  },
  {
   "cell_type": "code",
   "execution_count": 29,
   "metadata": {},
   "outputs": [],
   "source": [
    "Código no git: https://github.com/MauricioBM/Faculdade-SI/blob/main/EstruturasDeDados-II/listas/binary_tree/binary_tree.py \n",
    "    \n",
    "    def percurso_nivel(self, node=ROOT):\n",
    "        if node == ROOT:\n",
    "            node = self.root\n",
    "\n",
    "        queue = Queue()\n",
    "        queue.push(node)\n",
    "        while len(queue):\n",
    "            node = queue.pop()\n",
    "            if node.left:\n",
    "                queue.push(node.left)\n",
    "            if node.right:\n",
    "                queue.push(node.right)\n",
    "            print(node, end=\" \")"
   ]
  },
  {
   "cell_type": "markdown",
   "metadata": {},
   "source": [
    "#### Atividades\n",
    "\n",
    "1) Escreva uma função que determine se uma árvore binária é cheia ou não."
   ]
  },
  {
   "cell_type": "code",
   "execution_count": null,
   "metadata": {},
   "outputs": [],
   "source": [
    "Código no Git: https://github.com/MauricioBM/Faculdade-SI/blob/main/EstruturasDeDados-II/listas/binary_tree/binary_tree.py\n",
    "    \n",
    "    def mostrar_altura(self, node=None):\n",
    "        if node is None:\n",
    "            node = self.root\n",
    "        alt_left = 0\n",
    "        alt_right = 0\n",
    "        if node.left:\n",
    "            alt_left = self.mostrar_altura(node.left)\n",
    "        if node.right:\n",
    "            alt_right = self.mostrar_altura(node.right)\n",
    "        if alt_right > alt_left:\n",
    "            return alt_right + 1\n",
    "        return alt_left + 1\n",
    "\n",
    "    def contar_folhas(self, node=ROOT):\n",
    "\n",
    "        if node == ROOT:\n",
    "            node = self.root\n",
    "\n",
    "        queue = Queue()\n",
    "\n",
    "        cont = 0\n",
    "        queue.push(node)\n",
    "\n",
    "        while len(queue):\n",
    "            node = queue.pop()\n",
    "\n",
    "            if node.left:\n",
    "                queue.push(node.left)\n",
    "            if node.right:\n",
    "                queue.push(node.right)\n",
    "            if node.left is None and node.right is None:\n",
    "                cont += 1\n",
    "\n",
    "        return cont\n",
    "\n",
    "    def arvore_eh_cheia(self, node=ROOT):\n",
    "\n",
    "        if node == ROOT:\n",
    "            node = self.root\n",
    "\n",
    "        altura = self.mostrar_altura()\n",
    "        qtdNodes_ultNivel = 2 ** (altura - 1)\n",
    "\n",
    "        qtdFolhas = self.contar_folhas()\n",
    "\n",
    "        if qtdNodes_ultNivel == qtdFolhas:\n",
    "            return print(\"Esta árvore binária é cheia !\")\n",
    "        else:\n",
    "            return print(\"Esta árvore binária não é cheia !\")"
   ]
  },
  {
   "cell_type": "markdown",
   "metadata": {},
   "source": [
    "2) Escreva uma função que cria uma imagem espelho de uma árvore binária, isto é, todos os filhos à esquerda tornam-se filhos à direita, e vice-versa."
   ]
  },
  {
   "cell_type": "code",
   "execution_count": null,
   "metadata": {},
   "outputs": [],
   "source": [
    "Código no Git : https://github.com/MauricioBM/Faculdade-SI/blob/main/EstruturasDeDados-II/listas/binary_tree/binary_tree.py\n",
    "    \n",
    "    def invertTree(self, node=ROOT):\n",
    "\n",
    "        if node == ROOT:\n",
    "            node = self.root\n",
    "\n",
    "        queue = Queue()\n",
    "        queue.push(node)\n",
    "\n",
    "        while len(queue):\n",
    "            node = queue.pop()\n",
    "\n",
    "            if node:\n",
    "                node.left, node.right = node.right, node.left\n",
    "                queue.push(node.left)\n",
    "                queue.push(node.right)"
   ]
  },
  {
   "cell_type": "markdown",
   "metadata": {},
   "source": [
    "3) Ache a raiz de cada uma das seguintes árvores binárias:\n",
    "\n",
    "a) Árvore com percurso pós-ordem: FCBDG"
   ]
  },
  {
   "cell_type": "markdown",
   "metadata": {},
   "source": [
    "Resp.: G"
   ]
  },
  {
   "cell_type": "markdown",
   "metadata": {},
   "source": [
    "b) Árvore com percurso pré-ordem (profundidade): IBCDFEN"
   ]
  },
  {
   "cell_type": "markdown",
   "metadata": {},
   "source": [
    "Resp.: I"
   ]
  },
  {
   "cell_type": "markdown",
   "metadata": {},
   "source": [
    "c) Árvore com percurso em ordem simétrica (assuma que é uma árvore binária cheia): CBIDFGE"
   ]
  },
  {
   "cell_type": "markdown",
   "metadata": {},
   "source": [
    "Resp.: D"
   ]
  },
  {
   "cell_type": "markdown",
   "metadata": {},
   "source": [
    "4) Qual a altura máxima e mínima de uma árvore binária com 28 nós?"
   ]
  },
  {
   "cell_type": "markdown",
   "metadata": {},
   "source": [
    "Altura Mínima: 5\n",
    "\nAltura Máxima: 28\n",
    "\n",
    "No caso da árvore não ser binária, a altura mínima será de 2 níveis, já que não tem delimitação de quantos filhos o nó pai, que no caso é a raíz, pode ter.\n",
    "\n",
    "Agora, se for uma árvore binária, a altura mínima é dado pelo piso do log de n, na base 2 +1 (log (n)+1), neste caso: log (28) na base 2 = 4,8074, sendo o piso igual a 4, logo 4 + 1 = 5 níveis.\n",
    "\n",
    "Já a altura máxima, é o próprio n, já que pode ser demonstrado a partir de uma lista encadeada, de n elementos"
   ]
  },
  {
   "cell_type": "markdown",
   "metadata": {},
   "source": [
    "5) Em uma árvore binária, qual é o número máximo de nós que pode ser achado nos níveis 3, 4 e 12?"
   ]
  },
  {
   "cell_type": "markdown",
   "metadata": {},
   "source": [
    "O número máximo de nós por nivel, é dado pela fórmula: 2^n-1.\n",
    "\n",
    "Neste caso:\n",
    "\n",
    "2^3-1 => 2^2 = 4\n",
    "\n2^4-1 => 2^3 = 8\n",
    "\n2^12-1 => 2^11 = 2048"
   ]
  },
  {
   "cell_type": "markdown",
   "metadata": {},
   "source": [
    "6) Qual é o menor número de níveis que uma árvore binária com 42 nós pode apresentar?"
   ]
  },
  {
   "cell_type": "markdown",
   "metadata": {},
   "source": [
    "Altura mínima é dado pelo piso do log de n, na base 2 +1 (log (n)+1), neste caso: log (42) na base 2 = 5,3923, sendo o piso igual a 5, logo 5 + 1 = 6 níveis."
   ]
  },
  {
   "cell_type": "markdown",
   "metadata": {},
   "source": [
    "7) Escreva um algoritmo não recursivo para percurso de uma árvore binária em ordem simétrica. Dica: usar uma pilha."
   ]
  },
  {
   "cell_type": "code",
   "execution_count": null,
   "metadata": {},
   "outputs": [],
   "source": []
  },
  {
   "cell_type": "markdown",
   "metadata": {},
   "source": [
    "8) Escreva um algoritmo não recursivo para percurso de uma árvore binária em pós- ordem. Dica: usar uma pilha."
   ]
  },
  {
   "cell_type": "code",
   "execution_count": null,
   "metadata": {},
   "outputs": [],
   "source": []
  },
  {
   "cell_type": "markdown",
   "metadata": {},
   "source": [
    "### Árvore Binária de Busca\n",
    "fonte: https://algoritmosempython.com.br/cursos/algoritmos-python/estruturas-dados/arvores/\n",
    "\n",
    "Árvores binárias de pesquisa (ou Binary Search Tress - BSTs, do Inglês) são árvores cujos nós são organizados de acordo com algumas propriedades. Mais formalmente, podemos definir árvores binárias de pesquisa como abaixo:\n",
    "\n",
    "Definição de Árvore Binária de Pesquisa: \n",
    "Seja x um nó em uma árvore binária de pesquisa. Se y é um nodo na sub-árvore esquerda de x, então y.chave ≤ x.chave. Se y é um nodo na sub-árvore direita de x, então y.chave ≥ x.chave.\n",
    "\n",
    "Em outras palavras, árvores binárias de pesquisa são árvores que obedecem às seguintes propriedades:\n",
    "\n",
    "* Dado um nodo qualquer da árvore, todos os nodos à esqueda dele são menores ou iguais a ele.\n",
    "* Dado um nodo qualquer da árvore, todos os nodos à direita dele são maiores ou iguais a ele.\n",
    "\n",
    "Para simplificar as coisas, não permitiremos elementos repetidos em nossas implementações de BSTs, portanto, nodos à esquerda de um nodo sempre serão menores que ele, e nodos à direita de um nodo serão sempre maiores que ele.\n",
    "\n",
    "#### Busca\n",
    "Diversas aplicações precisam buscar um determinado valor em um conjunto de dados Essa busca deve ser feita da forma mais eficiente possível\n",
    "\n",
    "Árvores binárias possibilitam buscas com eficiência\n",
    "\n",
    "Exemplo: buscar dados de uma pessoa que possui um determinado CPF Dados das pessoas são armazenados numa árvore binária de busca\n",
    "\n",
    "CPF funciona como “chave”, pois é único para cada pessoa (não existem duas pessoas com o mesmo CPF)\n",
    "\n",
    "#### Caminhamentos em Árvore\n",
    "\n",
    "Caminhamentos em árvore são formas de visitarmos todos os nodos de uma árvore em uma ordem pré-definida. Existem três tipos de caminhamentos básicos: pré-ordem, em ordem, e pós-ordem. Esses três tipos de caminhamentos são bem parecidos, como veremos abaixo.\n",
    "\n",
    "Começaremos nossa explicação com o caminhamento em ordem. Nesse tipo de caminhamento, visitamos recursivamente o nodo da esquerda, visitamos o nodo corrente, e visitamos recursivamente o nodo da direita. Assim, dadas as restrições de uma árvore binária de pesquisa, ao realizarmos o caminhamento em ordem, estaremos de fato visitando os nodos em ordem crescente de chaves. Entretanto, os três tipos de caminhamentos explicados aqui podem ser usados para qualquer tipo de árvore. A única diferença é que ordem em que os nodos serão impressos. Por exemplo, o caminhamento em ordem em uma BST imprime os nodos em ordem crescente, mas em uma árvore binária qualquer a ordem pode não ser essa.\n",
    "\n",
    "#### Forma\n",
    "Para um mesmo conjunto de chaves, existem várias árvores binárias de busca possíveis\n",
    "\n",
    "Exemplos para o conjunto de chaves: {1, 2, 3, 4, 5, 6, 7}\n",
    "\n",
    "<img src=\"./img/arvore_bin.png\" alt=\"Árvore Binária de Busca\" width=\"350\"/>\n"
   ]
  },
  {
   "cell_type": "code",
   "execution_count": 54,
   "metadata": {},
   "outputs": [],
   "source": [
    "arv_bst = ArvoreBinariaBusca()\n",
    "\n",
    "arv_bst.adiciona(200)\n",
    "arv_bst.adiciona(100)\n",
    "arv_bst.adiciona(80)\n",
    "arv_bst.adiciona(150)\n",
    "arv_bst.adiciona(120)\n",
    "arv_bst.adiciona(110)\n",
    "arv_bst.adiciona(130)\n",
    "arv_bst.adiciona(300)\n",
    "arv_bst.adiciona(250)\n",
    "arv_bst.adiciona(270)\n",
    "arv_bst.adiciona(277)\n",
    "arv_bst.adiciona(273)\n",
    "arv_bst.adiciona(275)\n",
    "arv_bst.adiciona(220)\n",
    "arv_bst.adiciona(260)\n",
    "arv_bst.adiciona(265)\n",
    "arv_bst.adiciona(400)\n",
    "arv_bst.adiciona(500)\n",
    "arv_bst.adiciona(350)\n",
    "\n",
    "#arv_bst.mostra_profundidade()\n",
    "#print(arv_bst.altura(3))\n",
    "\n",
    "#arv_bst.exclui(270)\n",
    "arv_bst.exclui(300)\n",
    "#arv_bst.exclui(400)\n",
    "\n",
    "#arv_bst.mostra_profundidade()\n",
    "\n",
    "\n",
    "#arv_bst.mostra_largura()\n",
    "result = arv_bst.gera_arvore('teste.cyjs')\n",
    "\n",
    "file = open('./exemplos/teste.cyjs', \"w\")\n",
    "file.write(result)\n",
    "file.close()"
   ]
  },
  {
   "cell_type": "markdown",
   "metadata": {},
   "source": [
    "A representação gráfica da árvore acima"
   ]
  },
  {
   "cell_type": "code",
   "execution_count": 55,
   "metadata": {},
   "outputs": [
    {
     "data": {
      "application/vnd.jupyter.widget-view+json": {
       "model_id": "5098140b94cc432db97244edef1ff17b",
       "version_major": 2,
       "version_minor": 0
      },
      "text/plain": [
       "Cytoscape(data={'elements': {'nodes': [{'data': {'id': 200}, 'position': {'x': 50, 'y': 200}}, {'data': {'id':…"
      ]
     },
     "metadata": {},
     "output_type": "display_data"
    }
   ],
   "source": [
    "#with open('./exemplos/arvore_bin_busca.cyjs') as f:\n",
    "with open('./exemplos/teste.cyjs') as f:\n",
    "    arvore_bin_busca = json.load(f)\n",
    "\n",
    "Cytoscape(data=arvore_bin_busca)"
   ]
  },
  {
   "cell_type": "markdown",
   "metadata": {},
   "source": [
    "#### Atividade\n",
    "\n",
    "Implemente o algoritmo mostra_largura na classe ArvoreBinariaBusca, que deve exibir os nós da árvore através de uma estratégia de busca em largura.\n",
    "\n",
    "Em seguida, teste seu código aqui:\n"
   ]
  },
  {
   "cell_type": "code",
   "execution_count": 11,
   "metadata": {},
   "outputs": [],
   "source": [
    "Código no git: https://github.com/MauricioBM/Faculdade-SI/blob/main/EstruturasDeDados-II/listas/binary_tree/binary_tree.py \n",
    "    \n",
    "    def percurso_nivel(self, node=ROOT):\n",
    "        if node == ROOT:\n",
    "            node = self.root\n",
    "\n",
    "        queue = Queue()\n",
    "        queue.push(node)\n",
    "        while len(queue):\n",
    "            node = queue.pop()\n",
    "            if node.left:\n",
    "                queue.push(node.left)\n",
    "            if node.right:\n",
    "                queue.push(node.right)\n",
    "            print(node, end=\" \")"
   ]
  }
 ],
 "metadata": {
  "kernelspec": {
   "display_name": "Python 3",
   "language": "python",
   "name": "python3"
  },
  "language_info": {
   "codemirror_mode": {
    "name": "ipython",
    "version": 3
   },
   "file_extension": ".py",
   "mimetype": "text/x-python",
   "name": "python",
   "nbconvert_exporter": "python",
   "pygments_lexer": "ipython3",
   "version": "3.7.6"
  }
 },
 "nbformat": 4,
 "nbformat_minor": 4
}
